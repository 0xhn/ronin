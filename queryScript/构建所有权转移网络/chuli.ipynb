{
 "cells": [
  {
   "cell_type": "code",
   "execution_count": 26,
   "metadata": {
    "collapsed": true,
    "pycharm": {
     "name": "#%%\n"
    }
   },
   "outputs": [],
   "source": [
    "import pandas as pd"
   ]
  },
  {
   "cell_type": "code",
   "execution_count": 27,
   "outputs": [],
   "source": [
    "df = pd.read_csv('./total/2021-11-22_2021-11-24.csv')"
   ],
   "metadata": {
    "collapsed": false,
    "pycharm": {
     "name": "#%%\n"
    }
   }
  },
  {
   "cell_type": "code",
   "execution_count": 28,
   "outputs": [
    {
     "data": {
      "text/plain": "        node_id                                     address\n0             1  0xC8d656F78d3974D4842880841f5b1b404094204E\n1             2  0xd1293D57ecf8a594dE004CB60E290709B4d22379\n2             3  0x910A1c80dB382236E177b734666b29902D15E376\n3             4  0x4C6968510615A75e76e3b1b03AA5280E5BF36C56\n4             5  0x4F46d125b6CF3dACCD7A1D747575E5F7A8b3378a\n...         ...                                         ...\n384650   384651  0xffe93BFd9b7fF0cfCAFAEBAB1d9Fe7712480b9f8\n384651   384652  0xffeA665Fb104A6570528C53941772F17b9F4e8cC\n384652   384653  0xfff10a024aD55174eEb29655Eca5f6A952B5FD94\n384653   384654  0xfffE4863Ec5148edf12C4F674747A059Cf893238\n384654   384655  0xfffEa5eFb1F3b5aF046C5DC2298982E513696265\n\n[384655 rows x 2 columns]",
      "text/html": "<div>\n<style scoped>\n    .dataframe tbody tr th:only-of-type {\n        vertical-align: middle;\n    }\n\n    .dataframe tbody tr th {\n        vertical-align: top;\n    }\n\n    .dataframe thead th {\n        text-align: right;\n    }\n</style>\n<table border=\"1\" class=\"dataframe\">\n  <thead>\n    <tr style=\"text-align: right;\">\n      <th></th>\n      <th>node_id</th>\n      <th>address</th>\n    </tr>\n  </thead>\n  <tbody>\n    <tr>\n      <th>0</th>\n      <td>1</td>\n      <td>0xC8d656F78d3974D4842880841f5b1b404094204E</td>\n    </tr>\n    <tr>\n      <th>1</th>\n      <td>2</td>\n      <td>0xd1293D57ecf8a594dE004CB60E290709B4d22379</td>\n    </tr>\n    <tr>\n      <th>2</th>\n      <td>3</td>\n      <td>0x910A1c80dB382236E177b734666b29902D15E376</td>\n    </tr>\n    <tr>\n      <th>3</th>\n      <td>4</td>\n      <td>0x4C6968510615A75e76e3b1b03AA5280E5BF36C56</td>\n    </tr>\n    <tr>\n      <th>4</th>\n      <td>5</td>\n      <td>0x4F46d125b6CF3dACCD7A1D747575E5F7A8b3378a</td>\n    </tr>\n    <tr>\n      <th>...</th>\n      <td>...</td>\n      <td>...</td>\n    </tr>\n    <tr>\n      <th>384650</th>\n      <td>384651</td>\n      <td>0xffe93BFd9b7fF0cfCAFAEBAB1d9Fe7712480b9f8</td>\n    </tr>\n    <tr>\n      <th>384651</th>\n      <td>384652</td>\n      <td>0xffeA665Fb104A6570528C53941772F17b9F4e8cC</td>\n    </tr>\n    <tr>\n      <th>384652</th>\n      <td>384653</td>\n      <td>0xfff10a024aD55174eEb29655Eca5f6A952B5FD94</td>\n    </tr>\n    <tr>\n      <th>384653</th>\n      <td>384654</td>\n      <td>0xfffE4863Ec5148edf12C4F674747A059Cf893238</td>\n    </tr>\n    <tr>\n      <th>384654</th>\n      <td>384655</td>\n      <td>0xfffEa5eFb1F3b5aF046C5DC2298982E513696265</td>\n    </tr>\n  </tbody>\n</table>\n<p>384655 rows × 2 columns</p>\n</div>"
     },
     "execution_count": 28,
     "metadata": {},
     "output_type": "execute_result"
    }
   ],
   "source": [
    "df_address = pd.DataFrame(df[['Target']].values.tolist() + df[['Source']].values.tolist(), columns=['address'])\n",
    "\n",
    "df_address = df_address.drop_duplicates()\n",
    "df_address = df_address.reset_index(drop=True)\n",
    "ids = range(1, len(df_address) + 1)\n",
    "idx = 0\n",
    "df_address.insert(loc=idx, column='node_id', value=ids)\n",
    "df_address"
   ],
   "metadata": {
    "collapsed": false,
    "pycharm": {
     "name": "#%%\n"
    }
   }
  },
  {
   "cell_type": "code",
   "execution_count": 29,
   "outputs": [
    {
     "data": {
      "text/plain": "        Source  Target  Weight\n0       212815       1       1\n1       212815       2       1\n2        23520       3       3\n3       121812       4       1\n4       294165       5       1\n...        ...     ...     ...\n665551   10271    2006       2\n665552   10271    6105       1\n665553   10271   23448       1\n665554   10271   80103       1\n665555  271271   18893       1\n\n[665556 rows x 3 columns]",
      "text/html": "<div>\n<style scoped>\n    .dataframe tbody tr th:only-of-type {\n        vertical-align: middle;\n    }\n\n    .dataframe tbody tr th {\n        vertical-align: top;\n    }\n\n    .dataframe thead th {\n        text-align: right;\n    }\n</style>\n<table border=\"1\" class=\"dataframe\">\n  <thead>\n    <tr style=\"text-align: right;\">\n      <th></th>\n      <th>Source</th>\n      <th>Target</th>\n      <th>Weight</th>\n    </tr>\n  </thead>\n  <tbody>\n    <tr>\n      <th>0</th>\n      <td>212815</td>\n      <td>1</td>\n      <td>1</td>\n    </tr>\n    <tr>\n      <th>1</th>\n      <td>212815</td>\n      <td>2</td>\n      <td>1</td>\n    </tr>\n    <tr>\n      <th>2</th>\n      <td>23520</td>\n      <td>3</td>\n      <td>3</td>\n    </tr>\n    <tr>\n      <th>3</th>\n      <td>121812</td>\n      <td>4</td>\n      <td>1</td>\n    </tr>\n    <tr>\n      <th>4</th>\n      <td>294165</td>\n      <td>5</td>\n      <td>1</td>\n    </tr>\n    <tr>\n      <th>...</th>\n      <td>...</td>\n      <td>...</td>\n      <td>...</td>\n    </tr>\n    <tr>\n      <th>665551</th>\n      <td>10271</td>\n      <td>2006</td>\n      <td>2</td>\n    </tr>\n    <tr>\n      <th>665552</th>\n      <td>10271</td>\n      <td>6105</td>\n      <td>1</td>\n    </tr>\n    <tr>\n      <th>665553</th>\n      <td>10271</td>\n      <td>23448</td>\n      <td>1</td>\n    </tr>\n    <tr>\n      <th>665554</th>\n      <td>10271</td>\n      <td>80103</td>\n      <td>1</td>\n    </tr>\n    <tr>\n      <th>665555</th>\n      <td>271271</td>\n      <td>18893</td>\n      <td>1</td>\n    </tr>\n  </tbody>\n</table>\n<p>665556 rows × 3 columns</p>\n</div>"
     },
     "execution_count": 29,
     "metadata": {},
     "output_type": "execute_result"
    }
   ],
   "source": [
    "df_copy = df.copy()\n",
    "df_copy['Target'] = df_copy['Target'].map(df_address.set_index('address')['node_id']).combine_first(df_copy['Target']).astype(\n",
    "    int)\n",
    "df_copy['Source'] = df_copy['Source'].map(df_address.set_index('address')['node_id']).combine_first(df_copy['Source']).astype(int)\n",
    "# df_copy = df_copy[df_copy['times']>3]\n",
    "df_copy.to_csv('第四阶段.csv', index=False)\n",
    "df_copy"
   ],
   "metadata": {
    "collapsed": false,
    "pycharm": {
     "name": "#%%\n"
    }
   }
  },
  {
   "cell_type": "code",
   "execution_count": 30,
   "outputs": [],
   "source": [
    "import networkx as nx\n",
    "import matplotlib.pyplot as plt"
   ],
   "metadata": {
    "collapsed": false,
    "pycharm": {
     "name": "#%%\n"
    }
   }
  },
  {
   "cell_type": "code",
   "execution_count": 31,
   "outputs": [
    {
     "name": "stdout",
     "output_type": "stream",
     "text": [
      "DiGraph with 384655 nodes and 665556 edges\n"
     ]
    }
   ],
   "source": [
    "G = nx.from_pandas_edgelist(df_copy,'Source','Target',edge_attr=['Weight'],create_using=nx.DiGraph)\n",
    "print(nx.info(G))"
   ],
   "metadata": {
    "collapsed": false,
    "pycharm": {
     "name": "#%%\n"
    }
   }
  },
  {
   "cell_type": "code",
   "execution_count": 32,
   "outputs": [
    {
     "name": "stdout",
     "output_type": "stream",
     "text": [
      "24.717967763499963\n"
     ]
    }
   ],
   "source": [
    "avegre_degree = G.degree()\n",
    "sum_of_edges = sum(dict(avegre_degree).values())\n",
    "print(sum_of_edges/53852)"
   ],
   "metadata": {
    "collapsed": false,
    "pycharm": {
     "name": "#%%\n"
    }
   }
  },
  {
   "cell_type": "code",
   "execution_count": 32,
   "outputs": [],
   "source": [],
   "metadata": {
    "collapsed": false,
    "pycharm": {
     "name": "#%%\n"
    }
   }
  }
 ],
 "metadata": {
  "kernelspec": {
   "display_name": "Python 3",
   "language": "python",
   "name": "python3"
  },
  "language_info": {
   "codemirror_mode": {
    "name": "ipython",
    "version": 2
   },
   "file_extension": ".py",
   "mimetype": "text/x-python",
   "name": "python",
   "nbconvert_exporter": "python",
   "pygments_lexer": "ipython2",
   "version": "2.7.6"
  }
 },
 "nbformat": 4,
 "nbformat_minor": 0
}